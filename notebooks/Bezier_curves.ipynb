{
 "cells": [
  {
   "cell_type": "code",
   "execution_count": 1,
   "metadata": {},
   "outputs": [],
   "source": [
    "# needed imports\n",
    "import numpy as np\n",
    "import matplotlib.pyplot as plt"
   ]
  },
  {
   "cell_type": "markdown",
   "metadata": {},
   "source": [
    "# Bernstein polynomials"
   ]
  },
  {
   "cell_type": "markdown",
   "metadata": {},
   "source": [
    "Bernstein polynomials are defined by:\n",
    "\n",
    "\\begin{align}\n",
    "  B_k^n (x) =  \\binom{n}{k} x^k (1-x)^{n-k}, \\quad \\mbox{where}\\quad k \\in \\left[0, n \\right] ~ \\mbox{and} ~ x \\in \\left[ 0, 1 \\right]\n",
    "  \\label{eq:bernstein}\n",
    "\\end{align}\n",
    "\n",
    "We first consider the evaluation of the Bernstein polynomials. "
   ]
  },
  {
   "cell_type": "markdown",
   "metadata": {},
   "source": [
    "## Evaluation of Bernstein polynomials"
   ]
  },
  {
   "cell_type": "markdown",
   "metadata": {},
   "source": [
    "The following function evaluates all Bernstein polynomials of degree $n$ at $x$"
   ]
  },
  {
   "cell_type": "code",
   "execution_count": 2,
   "metadata": {},
   "outputs": [],
   "source": [
    "def all_bernstein(n, x):\n",
    "    b = np.zeros(n+1)\n",
    "    b[0] = 1.\n",
    "    x1 = 1.-x\n",
    "    for j in range(1, n+1):\n",
    "        saved = 0.\n",
    "        for i in range(0, j):\n",
    "            tmp = b[i]\n",
    "            b[i] = saved + x1*tmp\n",
    "            saved = x*tmp\n",
    "        b[j] = saved\n",
    "    return b"
   ]
  },
  {
   "cell_type": "markdown",
   "metadata": {},
   "source": [
    "\n",
    "**exercise 1.** compute the arithmetic complexity of the evaluation of Bernstein polynomials"
   ]
  },
  {
   "cell_type": "markdown",
   "metadata": {},
   "source": [
    "# Bézier curves"
   ]
  },
  {
   "cell_type": "markdown",
   "metadata": {},
   "source": [
    "We recall the definition of a Bézier curve:\n",
    "\n",
    "\\begin{align}\n",
    "  \\mathcal{C}(t) = \\sum_{k=0}^n \\mathbf{P}_k B_k^n(t) \n",
    "  \\label{eq:bezier-curve}\n",
    "\\end{align}\n",
    "\n",
    "where $\\left( \\mathbf{P} \\right)_{0 \\le k \\le n}$ are the control points or Bézier points."
   ]
  },
  {
   "cell_type": "markdown",
   "metadata": {},
   "source": [
    "## Evaluation of a point on Bézier curve"
   ]
  },
  {
   "cell_type": "markdown",
   "metadata": {},
   "source": [
    "The following function evaluates a Bézier curve, given the control points $P$ at $x$. The degree of the Bernstein polynomials is computed from the length of $P$."
   ]
  },
  {
   "cell_type": "code",
   "execution_count": 3,
   "metadata": {},
   "outputs": [],
   "source": [
    "def point_on_bezier_curve(P,x):\n",
    "    n = len(P) - 1\n",
    "    b = all_bernstein(n, x)\n",
    "    c = 0.\n",
    "    for k in range(0, n+1):\n",
    "        c += b[k]*P[k]\n",
    "    return c"
   ]
  },
  {
   "cell_type": "markdown",
   "metadata": {},
   "source": [
    "## DeCasteljau algorithm"
   ]
  },
  {
   "cell_type": "markdown",
   "metadata": {},
   "source": [
    "Another way to evaluate a point on a Bézier curve is to use the DeCasteljau algorithm, which is provided below."
   ]
  },
  {
   "cell_type": "code",
   "execution_count": 4,
   "metadata": {},
   "outputs": [],
   "source": [
    "def decasteljau(P, x):\n",
    "    n = len(P) - 1\n",
    "    Q = P.copy()\n",
    "    x1 = 1.-x\n",
    "    for j in range(1, n+1):\n",
    "        for i in range(0, n-j+1):\n",
    "            Q[i] = x1*Q[i] + x*Q[i+1]\n",
    "    c = Q[0]\n",
    "    return c"
   ]
  },
  {
   "cell_type": "markdown",
   "metadata": {},
   "source": [
    "## Examples"
   ]
  },
  {
   "cell_type": "code",
   "execution_count": 5,
   "metadata": {},
   "outputs": [
    {
     "data": {
      "image/png": "[encoded data removed]",
      "text/plain": [
       "<Figure size 432x288 with 1 Axes>"
      ]
     },
     "metadata": {
      "needs_background": "light"
     },
     "output_type": "display_data"
    }
   ],
   "source": [
    "def example_1():    \n",
    "    nt = 200\n",
    "    ts = np.linspace(0., 1., nt)\n",
    "\n",
    "    P = np.zeros((2, 2))\n",
    "    P[:, 0] = [0., 1.]\n",
    "    P[:, 1] = [1., 0.]\n",
    "\n",
    "    Q = np.zeros((nt, 2))\n",
    "    for i,t in enumerate(ts):\n",
    "        Q[i,:] = point_on_bezier_curve(P,t)\n",
    "\n",
    "    plt.plot(Q[:,0], Q[:,1], '-b')\n",
    "    plt.plot(P[:,0], P[:,1], '--ok', linewidth=0.7)\n",
    "    \n",
    "    for i in range(0, 2):\n",
    "        x,y = P[i,:]\n",
    "        plt.text(x+0.05,y+0.05,'$\\mathbf{P}_{' + str(i) + '}$')\n",
    "\n",
    "    plt.axis([-0.2, 1.2, -0.2, 1.2])\n",
    "\n",
    "    #ax = plt.axes()\n",
    "    #ax.set_aspect('equal', 'box')\n",
    "\n",
    "    \n",
    "example_1()"
   ]
  },
  {
   "cell_type": "code",
   "execution_count": 6,
   "metadata": {},
   "outputs": [
    {
     "data": {
      "image/png": "[encoded data removed]",
      "text/plain": [
       "<Figure size 432x288 with 1 Axes>"
      ]
     },
     "metadata": {
      "needs_background": "light"
     },
     "output_type": "display_data"
    }
   ],
   "source": [
    "def example_2():    \n",
    "    nt = 200\n",
    "    ts = np.linspace(0., 1., nt)\n",
    "\n",
    "    P = np.zeros((3, 2))\n",
    "    P[:, 0] = [1., 1., 0.]\n",
    "    P[:, 1] = [0., 1., 1.]\n",
    "\n",
    "    Q = np.zeros((nt, 2))\n",
    "    for i,t in enumerate(ts):\n",
    "        Q[i,:] = point_on_bezier_curve(P,t)\n",
    "\n",
    "    plt.plot(Q[:,0], Q[:,1], '-b')\n",
    "    plt.plot(P[:,0], P[:,1], '--ok', linewidth=0.7)\n",
    "    \n",
    "    for i in range(0, 3):\n",
    "        x,y = P[i,:]\n",
    "        plt.text(x+0.05,y+0.05,'$\\mathbf{P}_{' + str(i) + '}$')\n",
    "\n",
    "    plt.axis([-0.2, 1.2, -0.2, 1.2])\n",
    "\n",
    "    #ax = plt.axes()\n",
    "    #ax.set_aspect('equal', 'box')\n",
    "\n",
    "    \n",
    "example_2()"
   ]
  },
  {
   "cell_type": "code",
   "execution_count": 7,
   "metadata": {},
   "outputs": [
    {
     "data": {
      "image/png": "[encoded data removed]",
      "text/plain": [
       "<Figure size 432x288 with 1 Axes>"
      ]
     },
     "metadata": {
      "needs_background": "light"
     },
     "output_type": "display_data"
    }
   ],
   "source": [
    "def example_3a():    \n",
    "    nt = 200\n",
    "    ts = np.linspace(0., 1., nt)\n",
    "\n",
    "    P = np.zeros((4, 2))\n",
    "    P[:, 0] = [1., 1., 0., -1.]\n",
    "    P[:, 1] = [0., 1., 1.,  0.]\n",
    "\n",
    "    Q = np.zeros((nt, 2))\n",
    "    for i,t in enumerate(ts):\n",
    "        Q[i,:] = point_on_bezier_curve(P,t)\n",
    "\n",
    "    plt.plot(Q[:,0], Q[:,1], '-b')\n",
    "    plt.plot(P[:,0], P[:,1], '--ok', linewidth=0.7)\n",
    "    \n",
    "    for i in range(0, 3):\n",
    "        x,y = P[i,:]\n",
    "        plt.text(x+0.05,y+0.05,'$\\mathbf{P}_{' + str(i) + '}$')\n",
    "    i = 3\n",
    "    x,y = P[i,:]\n",
    "    plt.text(x-0.05,y+0.05,'$\\mathbf{P}_{' + str(i) + '}$')\n",
    "\n",
    "    plt.axis([-1.2, 1.2, -0.2, 1.2])\n",
    "\n",
    "    #ax = plt.axes()\n",
    "    #ax.set_aspect('equal', 'box')\n",
    "\n",
    "    \n",
    "example_3a()"
   ]
  },
  {
   "cell_type": "code",
   "execution_count": 8,
   "metadata": {},
   "outputs": [
    {
     "data": {
      "image/png": "[encoded data removed]",
      "text/plain": [
       "<Figure size 432x288 with 1 Axes>"
      ]
     },
     "metadata": {
      "needs_background": "light"
     },
     "output_type": "display_data"
    }
   ],
   "source": [
    "def example_3b():    \n",
    "    nt = 200\n",
    "    ts = np.linspace(0., 1., nt)\n",
    "\n",
    "    P = np.zeros((4, 2))\n",
    "    P[:, 0] = [1., 1.,  0., -1.]\n",
    "    P[:, 1] = [0., 1., -0.5,  0.]\n",
    "\n",
    "    Q = np.zeros((nt, 2))\n",
    "    for i,t in enumerate(ts):\n",
    "        Q[i,:] = point_on_bezier_curve(P,t)\n",
    "\n",
    "    plt.plot(Q[:,0], Q[:,1], '-b')\n",
    "    plt.plot(P[:,0], P[:,1], '--ok', linewidth=0.7)\n",
    "    \n",
    "    for i in range(0, 3):\n",
    "        x,y = P[i,:]\n",
    "        plt.text(x+0.05,y+0.05,'$\\mathbf{P}_{' + str(i) + '}$')\n",
    "    i = 3\n",
    "    x,y = P[i,:]\n",
    "    plt.text(x-0.05,y+0.05,'$\\mathbf{P}_{' + str(i) + '}$')\n",
    "\n",
    "    plt.axis([-1.2, 1.2, -0.7, 1.2])\n",
    "\n",
    "    #ax = plt.axes()\n",
    "    #ax.set_aspect('equal', 'box')\n",
    "\n",
    "    \n",
    "example_3b()"
   ]
  },
  {
   "cell_type": "code",
   "execution_count": 9,
   "metadata": {},
   "outputs": [
    {
     "data": {
      "image/png": "[encoded data removed]",
      "text/plain": [
       "<Figure size 432x288 with 1 Axes>"
      ]
     },
     "metadata": {
      "needs_background": "light"
     },
     "output_type": "display_data"
    }
   ],
   "source": [
    "def example_3c():    \n",
    "    nt = 200\n",
    "    ts = np.linspace(0., 1., nt)\n",
    "\n",
    "    P = np.zeros((4, 2))\n",
    "    P[:, 0] = [1., 0., 1., -1.]\n",
    "    P[:, 1] = [0., 1., 1.,  0.]\n",
    "\n",
    "    Q = np.zeros((nt, 2))\n",
    "    for i,t in enumerate(ts):\n",
    "        Q[i,:] = point_on_bezier_curve(P,t)\n",
    "\n",
    "    plt.plot(Q[:,0], Q[:,1], '-b')\n",
    "    plt.plot(P[:,0], P[:,1], '--ok', linewidth=0.7)\n",
    "    \n",
    "    for i in range(0, 3):\n",
    "        x,y = P[i,:]\n",
    "        plt.text(x+0.05,y+0.05,'$\\mathbf{P}_{' + str(i) + '}$')\n",
    "    i = 3\n",
    "    x,y = P[i,:]\n",
    "    plt.text(x-0.05,y+0.05,'$\\mathbf{P}_{' + str(i) + '}$')\n",
    "\n",
    "    plt.axis([-1.2, 1.2, -0.2, 1.2])\n",
    "\n",
    "    #ax = plt.axes()\n",
    "    #ax.set_aspect('equal', 'box')\n",
    "\n",
    "    \n",
    "example_3c()"
   ]
  },
  {
   "cell_type": "markdown",
   "metadata": {},
   "source": [
    "## Composite Bézier curve"
   ]
  },
  {
   "cell_type": "code",
   "execution_count": 10,
   "metadata": {},
   "outputs": [
    {
     "data": {
      "image/png": "[encoded data removed]",
      "text/plain": [
       "<Figure size 432x288 with 1 Axes>"
      ]
     },
     "metadata": {
      "needs_background": "light"
     },
     "output_type": "display_data"
    }
   ],
   "source": [
    "def plot_composite_bezier_curve():\n",
    "    n = 2\n",
    "\n",
    "    nt = 200\n",
    "    ts = np.linspace(0., 1., nt)\n",
    "\n",
    "    # ...\n",
    "    P = np.zeros((3, 2))\n",
    "    P[:, 0] = [1., 1., 0.]\n",
    "    P[:, 1] = [0., 1., 1.]\n",
    "\n",
    "    Q = np.zeros((nt, 2))\n",
    "    for i,t in enumerate(ts):\n",
    "        Q[i,:] = point_on_bezier_curve(P,t)\n",
    "\n",
    "    plt.plot(Q[:,0], Q[:,1], '-r')\n",
    "    plt.plot(P[:,0], P[:,1], '--or', linewidth=0.7)\n",
    "    # ...\n",
    "\n",
    "    # ...\n",
    "    P = np.zeros((3, 2))\n",
    "    P[:, 0] = [0., -1., 0.]\n",
    "    P[:, 1] = [1., -1., -1.]\n",
    "\n",
    "    Q = np.zeros((nt, 2))\n",
    "    for i,t in enumerate(ts):\n",
    "        Q[i,:] = point_on_bezier_curve(P,t)\n",
    "\n",
    "    plt.plot(Q[:,0], Q[:,1], '-b')\n",
    "    plt.plot(P[:,0], P[:,1], '--ob', linewidth=0.7)\n",
    "    # ...\n",
    "\n",
    "    # ...\n",
    "    P = np.zeros((3, 2))\n",
    "    P[:, 0] = [1., 1., 0.]\n",
    "    P[:, 1] = [0., -1., -1.]\n",
    "\n",
    "    Q = np.zeros((nt, 2))\n",
    "    for i,t in enumerate(ts):\n",
    "        Q[i,:] = point_on_bezier_curve(P,t)\n",
    "\n",
    "    plt.plot(Q[:,0], Q[:,1], '-g')\n",
    "    plt.plot(P[:,0], P[:,1], '--og', linewidth=0.7)\n",
    "    # ...\n",
    "\n",
    "    #plt.axis('equal')\n",
    "    #plt.title('Composite Bézier curve')\n",
    "\n",
    "plot_composite_bezier_curve()"
   ]
  },
  {
   "cell_type": "markdown",
   "metadata": {},
   "source": [
    "# Rational Bézier curves"
   ]
  },
  {
   "cell_type": "markdown",
   "metadata": {},
   "source": [
    "We recall that Rational Bernstein polynomials are defined as\n",
    "\n",
    "$$\n",
    "  R_k^n(t) := \\frac{w_k B_k^n(t)}{\\sum_{i=0}^n w_i B_i^n(t)}\n",
    "$$\n",
    "\n",
    "where $w_i > 0, \\forall i \\in \\left[0, n \\right]$ are non-negative real numbers, called the weights.\n",
    "\n",
    "Rational Bézier curves are then defined as\n",
    "\n",
    "$$\n",
    "  \\mathcal{C}(t) = \\sum_{k=0}^n \\mathbf{P}_k R_k^n(t) \n",
    "$$\n",
    "\n",
    "Notice that a Rational Bézier curve in $\\mathbb{R}^d$ can be described as a Bézier curve in $\\mathbb{R}^{d+1}$ using the control points:\n",
    "\n",
    "$\\textbf{P}^{\\omega}_i = ( \\omega_i \\textbf{P}_i, \\omega_i )$\n",
    "\n",
    "This remark is used for the evaluation and also to extend most of the Bézier techniques to Rational Bézier curves."
   ]
  },
  {
   "cell_type": "code",
   "execution_count": 11,
   "metadata": {},
   "outputs": [
    {
     "data": {
      "image/png": "[encoded data removed]",
      "text/plain": [
       "<Figure size 432x288 with 1 Axes>"
      ]
     },
     "metadata": {
      "needs_background": "light"
     },
     "output_type": "display_data"
    }
   ],
   "source": [
    "def example_1():    \n",
    "    nt = 200\n",
    "    ts = np.linspace(0., 1., nt)\n",
    "\n",
    "    P = np.zeros((3, 2))\n",
    "    P[:, 0] = [1., 1., 0.]\n",
    "    P[:, 1] = [0., 1., 1.]\n",
    "    \n",
    "    # weights\n",
    "    W = np.asarray([1., 1., 2.])\n",
    "    \n",
    "    # weithed control points in 3D\n",
    "    Pw = np.zeros((3,3))\n",
    "    for i in range(0, 3):\n",
    "        Pw[i,:2] = W[i]*P[i,:]\n",
    "        Pw[i,2]  = W[i]\n",
    "    \n",
    "    Qw = np.zeros((nt, 3))\n",
    "    for i,t in enumerate(ts):\n",
    "        Qw[i,:] = point_on_bezier_curve(Pw,t)\n",
    "\n",
    "    Q = np.zeros((nt, 2))\n",
    "    Q[:,0] = Qw[:,0]/Qw[:,2]\n",
    "    Q[:,1] = Qw[:,1]/Qw[:,2]\n",
    "    \n",
    "    plt.plot(Q[:,0], Q[:,1], '-b')\n",
    "    plt.plot(P[:,0], P[:,1], '--ok', linewidth=0.7)\n",
    "    \n",
    "    for i in range(0, 3):\n",
    "        x,y = P[i,:]\n",
    "        plt.text(x+0.05,y+0.05,'$\\mathbf{P}_{' + str(i) + '}$')\n",
    "\n",
    "    plt.axis([-0.2, 1.2, -0.2, 1.2])\n",
    "\n",
    "    #ax = plt.axes()\n",
    "    #ax.set_aspect('equal', 'box')\n",
    "\n",
    "    \n",
    "example_1()"
   ]
  },
  {
   "cell_type": "code",
   "execution_count": 12,
   "metadata": {},
   "outputs": [
    {
     "data": {
      "text/html": [
       "<link href='http://fonts.googleapis.com/css?family=Fenix' rel='stylesheet' type='text/css'>\n",
       "<link href='http://fonts.googleapis.com/css?family=Alegreya+Sans:100,300,400,500,700,800,900,100italic,300italic,400italic,500italic,700italic,800italic,900italic' rel='stylesheet' type='text/css'>\n",
       "<link href='http://fonts.googleapis.com/css?family=Source+Code+Pro:300,400' rel='stylesheet' type='text/css'>\n",
       "<style>\n",
       "    @font-face {\n",
       "        font-family: \"Computer Modern\";\n",
       "        src: url('http://mirrors.ctan.org/fonts/cm-unicode/fonts/otf/cmunss.otf');\n",
       "    }\n",
       "    div.cell{\n",
       "        width:600px;\n",
       "        margin-left:16% !important;\n",
       "        margin-right:auto;\n",
       "    }\n",
       "    h1 {\n",
       "        font-family: 'Alegreya Sans', sans-serif;\n",
       "    }\n",
       "    h2 {\n",
       "        font-family: 'Fenix', serif;\n",
       "    }\n",
       "    h3{\n",
       "\t\tfont-family: 'Fenix', serif;\n",
       "        margin-top:12px;\n",
       "        margin-bottom: 3px;\n",
       "       }\n",
       "\th4{\n",
       "\t\tfont-family: 'Fenix', serif;\n",
       "       }\n",
       "    h5 {\n",
       "        font-family: 'Alegreya Sans', sans-serif;\n",
       "    }\t   \n",
       "    div.text_cell_render{\n",
       "        font-family: 'Alegreya Sans',Computer Modern, \"Helvetica Neue\", Arial, Helvetica, Geneva, sans-serif;\n",
       "        line-height: 135%;\n",
       "        font-size: 120%;\n",
       "        width:600px;\n",
       "        margin-left:auto;\n",
       "        margin-right:auto;\n",
       "    }\n",
       "    .CodeMirror{\n",
       "            font-family: \"Source Code Pro\";\n",
       "\t\t\tfont-size: 90%;\n",
       "    }\n",
       "/*    .prompt{\n",
       "        display: None;\n",
       "    }*/\n",
       "    .text_cell_render h1 {\n",
       "        font-weight: 200;\n",
       "        font-size: 50pt;\n",
       "\t\tline-height: 100%;\n",
       "        color:#054BCD;\n",
       "        margin-bottom: 0.5em;\n",
       "        margin-top: 0.5em;\n",
       "        display: block;\n",
       "    }\t\n",
       "    .text_cell_render h5 {\n",
       "        font-weight: 300;\n",
       "        font-size: 16pt;\n",
       "        color: #054BCD;\n",
       "        font-style: italic;\n",
       "        margin-bottom: .5em;\n",
       "        margin-top: 0.5em;\n",
       "        display: block;\n",
       "    }\n",
       "    \n",
       "    .warning{\n",
       "        color: rgb( 240, 20, 20 )\n",
       "        }  \n",
       "</style>\n",
       "<script>\n",
       "    MathJax.Hub.Config({\n",
       "                        TeX: {\n",
       "                           extensions: [\"AMSmath.js\"]\n",
       "                           },\n",
       "                tex2jax: {\n",
       "                    inlineMath: [ ['$','$'], [\"\\\\(\",\"\\\\)\"] ],\n",
       "                    displayMath: [ ['$$','$$'], [\"\\\\[\",\"\\\\]\"] ]\n",
       "                },\n",
       "                displayAlign: 'center', // Change this to 'center' to center equations.\n",
       "                \"HTML-CSS\": {\n",
       "                    styles: {'.MathJax_Display': {\"margin\": 4}}\n",
       "                }\n",
       "        });\n",
       "</script>\n"
      ],
      "text/plain": [
       "<IPython.core.display.HTML object>"
      ]
     },
     "execution_count": 12,
     "metadata": {},
     "output_type": "execute_result"
    }
   ],
   "source": [
    "# css style\n",
    "from IPython.core.display import HTML\n",
    "def css_styling():\n",
    "    styles = open(\"../styles/custom.css\", \"r\").read()\n",
    "    return HTML(styles)\n",
    "css_styling()"
   ]
  },
  {
   "cell_type": "code",
   "execution_count": null,
   "metadata": {},
   "outputs": [],
   "source": []
  }
 ],
 "metadata": {
  "kernelspec": {
   "display_name": "Python 3",
   "language": "python",
   "name": "python3"
  },
  "language_info": {
   "codemirror_mode": {
    "name": "ipython",
    "version": 3
   },
   "file_extension": ".py",
   "mimetype": "text/x-python",
   "name": "python",
   "nbconvert_exporter": "python",
   "pygments_lexer": "ipython3",
   "version": "3.6.8"
  }
 },
 "nbformat": 4,
 "nbformat_minor": 2
}
